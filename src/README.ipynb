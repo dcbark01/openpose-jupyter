{
 "cells": [
  {
   "cell_type": "markdown",
   "source": [
    "# Overview"
   ],
   "metadata": {
    "collapsed": false
   }
  },
  {
   "cell_type": "markdown",
   "source": [
    "Using Jupyter notebooks, we can use OpenPose in an interactive way."
   ],
   "metadata": {
    "collapsed": false
   }
  },
  {
   "cell_type": "markdown",
   "source": [
    "# Directory Structure"
   ],
   "metadata": {
    "collapsed": false
   }
  },
  {
   "cell_type": "markdown",
   "source": [
    "**image/** : This is a read only directory that contains modules and notebooks that are part of the core openpose-jupyter image. This is really just meant for basic demonstrations/examples that should remain part of the core image. Any changes made in this directory **will not persist** across restarts.\n",
    "\n",
    "**work/** : Is the working folder where editable notebooks are created. This is the directory that is mapped into a volume and any changes made in this **will persist** across restarts."
   ],
   "metadata": {
    "collapsed": false
   }
  },
  {
   "cell_type": "markdown",
   "source": [
    "# !!! Danger Zone !!!"
   ],
   "metadata": {
    "collapsed": false
   }
  },
  {
   "cell_type": "markdown",
   "source": [
    "If you want to cleanup the work area, you can run the following. ALL CONTENTS OF THE WORKING FOLDER WILL BE DESTROYED! BEWARE!"
   ],
   "metadata": {
    "collapsed": false
   }
  },
  {
   "cell_type": "code",
   "execution_count": null,
   "outputs": [],
   "source": [
    "import os\n",
    "\n",
    "assert False    # Comment this out to run (\"assert False\" just prevents accidentally running this cell)\n",
    "os.system('rm -r work/*')\n",
    "os.system('cp -rf image/. work/')\n",
    "os.system('rm work/README.ipynb')"
   ],
   "metadata": {
    "collapsed": false
   }
  }
 ],
 "metadata": {
  "kernelspec": {
   "display_name": "Python 3",
   "language": "python",
   "name": "python3"
  },
  "language_info": {
   "codemirror_mode": {
    "name": "ipython",
    "version": 2
   },
   "file_extension": ".py",
   "mimetype": "text/x-python",
   "name": "python",
   "nbconvert_exporter": "python",
   "pygments_lexer": "ipython2",
   "version": "2.7.6"
  }
 },
 "nbformat": 4,
 "nbformat_minor": 0
}
